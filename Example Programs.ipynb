{
 "cells": [
  {
   "cell_type": "code",
   "execution_count": 2,
   "metadata": {},
   "outputs": [
    {
     "name": "stdout",
     "output_type": "stream",
     "text": [
      "a67\n",
      "b676\n",
      "c8\n",
      "b is largest\n"
     ]
    }
   ],
   "source": [
    "#Largest among 3\n",
    "a=int(input(\"a\"))\n",
    "b=int(input(\"b\"))\n",
    "c=int(input(\"c\"))\n",
    "if a>b:\n",
    "    if a>c:\n",
    "        print(\"a is largest\")\n",
    "    else:\n",
    "        print(\"c is largest\")\n",
    "else:\n",
    "    if b>c:\n",
    "        print(\"b is largest\")\n",
    "    else:\n",
    "        print(\"c is largest\")"
   ]
  },
  {
   "cell_type": "code",
   "execution_count": 10,
   "metadata": {},
   "outputs": [
    {
     "name": "stdout",
     "output_type": "stream",
     "text": [
      "n4\n",
      "x2\n",
      "x34\n",
      "x5\n",
      "x5\n",
      "[2, 34, 5, 5]\n",
      "Largest value is:  34\n"
     ]
    }
   ],
   "source": [
    "n=int(input(\"n\"))\n",
    "l=[]\n",
    "m=0\n",
    "for i in range(1,n+1):\n",
    "    x=int(input(\"x\"))\n",
    "    l.append(x)\n",
    "print(l)\n",
    "for i in l:\n",
    "    if m<i:\n",
    "        m=i\n",
    "print(\"Largest value is: \",m)"
   ]
  },
  {
   "cell_type": "code",
   "execution_count": 4,
   "metadata": {},
   "outputs": [
    {
     "name": "stdout",
     "output_type": "stream",
     "text": [
      "enter n23\n",
      "False\n"
     ]
    }
   ],
   "source": [
    "#Divisibility check\n",
    "n=int(input(\"enter n\"))\n",
    "if(n%2==0 and n%3==0 and n%4!=0):\n",
    "    print(\"True\")\n",
    "else:\n",
    "    print(\"False\")"
   ]
  },
  {
   "cell_type": "code",
   "execution_count": 5,
   "metadata": {},
   "outputs": [
    {
     "name": "stdout",
     "output_type": "stream",
     "text": [
      "a4\n",
      "b6\n",
      "True\n"
     ]
    }
   ],
   "source": [
    "#Sum 10 or any 10\n",
    "a=int(input(\"a\"))\n",
    "b=int(input(\"b\"))\n",
    "if(a==10 or b==10 or a+b==10):\n",
    "    print(\"True\")\n",
    "else:\n",
    "    print(\"False\")"
   ]
  },
  {
   "cell_type": "code",
   "execution_count": 11,
   "metadata": {},
   "outputs": [
    {
     "name": "stdout",
     "output_type": "stream",
     "text": [
      "Enter a stringmadam\n",
      "Palindrome\n"
     ]
    }
   ],
   "source": [
    "#Palindrome check\n",
    "n=input(\"Enter a string \")\n",
    "x=reversed(n)\n",
    "if(list(n)==list(x)):\n",
    "    print(\"Palindrome\")\n",
    "else:\n",
    "    print(\"Not Palindrome\")\n"
   ]
  },
  {
   "cell_type": "code",
   "execution_count": 18,
   "metadata": {},
   "outputs": [
    {
     "name": "stdout",
     "output_type": "stream",
     "text": [
      "Enter n43\n",
      "N is prime\n"
     ]
    }
   ],
   "source": [
    "#Prime Number\n",
    "n=int(input(\"Enter n\"))\n",
    "c=2\n",
    "f=0\n",
    "for i in range(2,n-1):\n",
    "    if n%i==0:\n",
    "        c+=1\n",
    "        f=1\n",
    "if f==0:\n",
    "    print(\"N is prime\")\n",
    "else:\n",
    "    print(\"N is not a prime\")"
   ]
  },
  {
   "cell_type": "code",
   "execution_count": null,
   "metadata": {},
   "outputs": [],
   "source": [
    "#Near 100 or 200\n",
    "n=int(input(\"n\"))\n",
    "if(n>=90 and n<100)or(n>=190 and n<200):\n",
    "    print(\"True\")\n",
    "else:\n",
    "    print(\"False\")"
   ]
  },
  {
   "cell_type": "code",
   "execution_count": 2,
   "metadata": {},
   "outputs": [
    {
     "name": "stdout",
     "output_type": "stream",
     "text": [
      "n5\n",
      "10\n"
     ]
    }
   ],
   "source": [
    "#Sum of n numbers\n",
    "def sum(n):\n",
    "    s=0\n",
    "    i=0\n",
    "    while(i<n):\n",
    "        s=s+i\n",
    "        i+=1\n",
    "    print(s)\n",
    "    return\n",
    "x=int(input(\"n\"))\n",
    "sum(x)\n",
    "\n",
    "    \n",
    "        "
   ]
  },
  {
   "cell_type": "code",
   "execution_count": 1,
   "metadata": {},
   "outputs": [
    {
     "name": "stdout",
     "output_type": "stream",
     "text": [
      "n5\n",
      "10\n"
     ]
    }
   ],
   "source": [
    "\n",
    "n=int(input(\"n\"))\n",
    "s=0\n",
    "i=0\n",
    "while(i<n):\n",
    "    s=s+i\n",
    "    i+=1\n",
    "print(s)"
   ]
  },
  {
   "cell_type": "code",
   "execution_count": 5,
   "metadata": {},
   "outputs": [
    {
     "name": "stdout",
     "output_type": "stream",
     "text": [
      "n12\n",
      "Factorial is:  479001600\n"
     ]
    }
   ],
   "source": [
    "#Factorial\n",
    "def fact(n):\n",
    "    f=1\n",
    "    if(n<0):\n",
    "        print(\"Not possible\")\n",
    "    elif(n==0 or n==1):\n",
    "        print(\"Factorial is: 1\")\n",
    "    else:\n",
    "        for i in range(1,n+1):\n",
    "            f=f*i\n",
    "            i+=1\n",
    "        print(\"Factorial is: \",f)\n",
    "    return\n",
    "n=int(input(\"n\"))\n",
    "fact(n)\n",
    "        "
   ]
  },
  {
   "cell_type": "code",
   "execution_count": 13,
   "metadata": {},
   "outputs": [
    {
     "name": "stdout",
     "output_type": "stream",
     "text": [
      "n3\n",
      "3 * 1 = 3\n",
      "3 * 2 = 6\n",
      "3 * 3 = 9\n",
      "3 * 4 = 12\n",
      "3 * 5 = 15\n",
      "3 * 6 = 18\n",
      "3 * 7 = 21\n",
      "3 * 8 = 24\n",
      "3 * 9 = 27\n",
      "3 * 10 = 30\n"
     ]
    }
   ],
   "source": [
    "#Multiplication table\n",
    "n=int(input(\"n\"))\n",
    "for i in range(1,11):\n",
    "    print(n,\"*\",i,\"=\",n*i)"
   ]
  },
  {
   "cell_type": "code",
   "execution_count": 17,
   "metadata": {},
   "outputs": [
    {
     "name": "stdout",
     "output_type": "stream",
     "text": [
      "n8768\n",
      "Reverse of num is:  8678\n"
     ]
    }
   ],
   "source": [
    "#Reverse Number\n",
    "n=int(input(\"n\"))\n",
    "rev=0\n",
    "while(n>0):\n",
    "    r=n%10\n",
    "    rev=rev*10+r\n",
    "    n=int(n/10)\n",
    "print(\"Reverse of num is: \",rev)"
   ]
  },
  {
   "cell_type": "code",
   "execution_count": 19,
   "metadata": {},
   "outputs": [
    {
     "name": "stdout",
     "output_type": "stream",
     "text": [
      "n695\n",
      "Largest among given number is:  9\n"
     ]
    }
   ],
   "source": [
    "#greater number in a given number\n",
    "n=int(input(\"n\"))\n",
    "x=0\n",
    "while(n>0):\n",
    "    r=n%10\n",
    "    if(x<r):\n",
    "        x=r\n",
    "    n=int(n/10)\n",
    "print(\"Largest among given number is: \",x)"
   ]
  },
  {
   "cell_type": "code",
   "execution_count": 20,
   "metadata": {},
   "outputs": [
    {
     "name": "stdout",
     "output_type": "stream",
     "text": [
      "n6\n",
      "Factors of  6 is:\n",
      "1\n",
      "2\n",
      "3\n",
      "6\n"
     ]
    }
   ],
   "source": [
    "#Factors of given number\n",
    "n=int(input(\"n\"))\n",
    "print(\"Factors of \",n,\"is:\")\n",
    "for i in range(1,n+1):\n",
    "    if(n%i==0):\n",
    "        print(i)"
   ]
  },
  {
   "cell_type": "code",
   "execution_count": 1,
   "metadata": {},
   "outputs": [
    {
     "name": "stdout",
     "output_type": "stream",
     "text": [
      "n6\n",
      "Perfect Number\n"
     ]
    }
   ],
   "source": [
    "#Perfect Number\n",
    "x=int(input(\"n\"))\n",
    "n=x\n",
    "s1=0\n",
    "s=0\n",
    "while(n>0):\n",
    "    r=n%10\n",
    "    for i in range(1,r):\n",
    "        if(r%i==0):\n",
    "            s1=s1+i\n",
    "    s=s+s1\n",
    "    n=int(n/10)\n",
    "if(s==x):\n",
    "    print(\"Perfect Number\")\n",
    "else:\n",
    "    print(\"Not a Perfect Number\")\n",
    "            \n",
    "    "
   ]
  },
  {
   "cell_type": "code",
   "execution_count": 3,
   "metadata": {},
   "outputs": [
    {
     "name": "stdout",
     "output_type": "stream",
     "text": [
      "n4\n",
      "2.0\n"
     ]
    }
   ],
   "source": [
    "#Square root\n",
    "import math\n",
    "n=int(input(\"n\"))\n",
    "print(math.sqrt(n))"
   ]
  },
  {
   "cell_type": "code",
   "execution_count": 2,
   "metadata": {},
   "outputs": [
    {
     "name": "stdout",
     "output_type": "stream",
     "text": [
      "n145\n",
      "Strong Number\n"
     ]
    }
   ],
   "source": [
    "#Strong Number\n",
    "x=int(input(\"n\"))\n",
    "n=x\n",
    "s=0\n",
    "while(n>0):\n",
    "    r=n%10\n",
    "    f=1\n",
    "    for i in range(1,r+1):\n",
    "        f=f*i\n",
    "    s=s+f\n",
    "    n=int(n/10)\n",
    "if(x==s):\n",
    "    print(\"Strong Number\")\n",
    "else:\n",
    "    print(\"Not a atrong number\")\n"
   ]
  },
  {
   "cell_type": "markdown",
   "metadata": {},
   "source": [
    "### Count of elements in given list"
   ]
  },
  {
   "cell_type": "code",
   "execution_count": 14,
   "metadata": {},
   "outputs": [
    {
     "name": "stdout",
     "output_type": "stream",
     "text": [
      "n4\n",
      "1\n",
      "2\n",
      "3\n",
      "3\n",
      "[1, 2, 3, 3]\n",
      "1 : 1\n",
      "2 : 1\n",
      "3 : 2\n",
      "3 : 2\n"
     ]
    }
   ],
   "source": [
    "n=int(input(\"n\"))\n",
    "l=[]\n",
    "for i in range(1,n+1):\n",
    "    x=int(input())\n",
    "    l.append(x)\n",
    "print(l)\n",
    "#le=len(l)\n",
    "for i in l:\n",
    "    print(i,\":\",l.count(i))"
   ]
  },
  {
   "cell_type": "markdown",
   "metadata": {},
   "source": [
    "\n",
    "### Concatenation of 2 lists ['p','q'] with[1,2,3,4,5]\n",
    "### o/p:['p1','q1','p2','q2','p3','q3','p4','q4','p5','q5'] "
   ]
  },
  {
   "cell_type": "code",
   "execution_count": 1,
   "metadata": {},
   "outputs": [
    {
     "name": "stdout",
     "output_type": "stream",
     "text": [
      "5\n",
      "p\n",
      "q\n",
      "r\n",
      "['p1', 'q1', 'r1', 'p2', 'q2', 'r2', 'p3', 'q3', 'r3', 'p4', 'q4', 'r4', 'p5', 'q5', 'r5']\n"
     ]
    }
   ],
   "source": [
    "n=int(input())\n",
    "l=[]\n",
    "for i in range(3):\n",
    "    x=input()\n",
    "    l.append(x)\n",
    "l1=[]\n",
    "for i in range(1,n+1):\n",
    "    for j in range(0,len(l)):\n",
    "        l1.append(l[j]+str(i))\n",
    "print(l1)\n"
   ]
  },
  {
   "cell_type": "code",
   "execution_count": 31,
   "metadata": {},
   "outputs": [
    {
     "data": {
      "text/plain": [
       "[3, 8, 15]"
      ]
     },
     "execution_count": 31,
     "metadata": {},
     "output_type": "execute_result"
    }
   ],
   "source": [
    "import operator as op\n",
    "li=[1,2,3]\n",
    "la=[3,4,5,7]\n",
    "list(map(op.mul,li,la))"
   ]
  },
  {
   "cell_type": "markdown",
   "metadata": {},
   "source": [
    "### Count of Non Prime Numbers other than numbers divided by 10"
   ]
  },
  {
   "cell_type": "code",
   "execution_count": 2,
   "metadata": {},
   "outputs": [
    {
     "name": "stdout",
     "output_type": "stream",
     "text": [
      "enter a number 100\n",
      "[2, 4, 5, 25]\n",
      "2\n"
     ]
    }
   ],
   "source": [
    "def prime1(n):\n",
    "    count=0\n",
    "    for i in range(1,n):\n",
    "        if(n%i==0):\n",
    "            count=count+1\n",
    "    if(count==1):\n",
    "        return 1\n",
    "    else:\n",
    "        return 0\n",
    "def factors(n):\n",
    "    count=0\n",
    "    li=[]\n",
    "    for i in range(2,n+1):\n",
    "        if(n%i==0 and i%10):\n",
    "            li.append(i)\n",
    "    print(li)\n",
    "    for i in li:\n",
    "        x=prime1(i)\n",
    "        if(x==0):\n",
    "            count=count+1\n",
    "    print(count)\n",
    "n=int(input(\"enter a number \"))\n",
    "factors(n)"
   ]
  },
  {
   "cell_type": "code",
   "execution_count": 33,
   "metadata": {},
   "outputs": [
    {
     "name": "stdout",
     "output_type": "stream",
     "text": [
      "Enter an integer:24\n",
      "Factors are:\n",
      "2\n",
      "3\n"
     ]
    }
   ],
   "source": [
    "n=int(input(\"Enter an integer:\"))\n",
    "print(\"Factors are:\")\n",
    "l=[]\n",
    "for i in range(1,n):\n",
    "    if(n%i==0):\n",
    "        l.append(i)\n",
    "print(l)\n",
    "i=1\n",
    "while(i<=n):\n",
    "    k=0\n",
    "    if(n%i==0):\n",
    "        j=1\n",
    "        while(j<=i):\n",
    "            if(i%j==0):\n",
    "                k=k+1\n",
    "            j=j+1\n",
    "        if(k==2):\n",
    "            print(i)\n",
    "    i=i+1"
   ]
  },
  {
   "cell_type": "code",
   "execution_count": null,
   "metadata": {},
   "outputs": [],
   "source": []
  }
 ],
 "metadata": {
  "kernelspec": {
   "display_name": "Python 3",
   "language": "python",
   "name": "python3"
  },
  "language_info": {
   "codemirror_mode": {
    "name": "ipython",
    "version": 3
   },
   "file_extension": ".py",
   "mimetype": "text/x-python",
   "name": "python",
   "nbconvert_exporter": "python",
   "pygments_lexer": "ipython3",
   "version": "3.7.4"
  }
 },
 "nbformat": 4,
 "nbformat_minor": 2
}
