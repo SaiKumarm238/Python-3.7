{
 "cells": [
  {
   "cell_type": "markdown",
   "metadata": {},
   "source": [
    "# String and strings related Problems in Python \n",
    "- string : Sequence of characters\n",
    "- Python : Chraracter and string\n",
    "- ord(chr) : Represents the Output in items of ASCII NUMBER \n",
    "- che(ord(chr)) : Representy the output in terms of Chracter\n",
    "- ASCII Numbers :\n",
    "            - A-Z : 64-90\n",
    "            - a-z : 97-122\n",
    "            - 0-9 : 48-57\n",
    "            - space : 32"
   ]
  },
  {
   "cell_type": "code",
   "execution_count": 28,
   "metadata": {
    "scrolled": true
   },
   "outputs": [
    {
     "name": "stdout",
     "output_type": "stream",
     "text": [
      "s\n",
      "a\n",
      "i\n",
      "k\n",
      "u\n",
      "m\n",
      "a\n",
      "r\n"
     ]
    }
   ],
   "source": [
    "s =\"saikumar\"\n",
    "for i in s:\n",
    "    print (i)"
   ]
  },
  {
   "cell_type": "code",
   "execution_count": 31,
   "metadata": {},
   "outputs": [
    {
     "name": "stdout",
     "output_type": "stream",
     "text": [
      "0\n",
      "1\n",
      "2\n",
      "3\n",
      "4\n",
      "5\n",
      "6\n",
      "7\n"
     ]
    }
   ],
   "source": [
    "for i in range(len(s)):\n",
    "    print(i)"
   ]
  },
  {
   "cell_type": "code",
   "execution_count": 2,
   "metadata": {},
   "outputs": [
    {
     "name": "stdout",
     "output_type": "stream",
     "text": [
      "<class 'str'>\n",
      "<class 'str'>\n"
     ]
    }
   ],
   "source": [
    "s1 =\"a\"\n",
    "s2 = \"saikumar\"\n",
    "print(type(s1))\n",
    "print(type(s2))"
   ]
  },
  {
   "cell_type": "code",
   "execution_count": 7,
   "metadata": {},
   "outputs": [
    {
     "name": "stdout",
     "output_type": "stream",
     "text": [
      "saikumar\n",
      "s a i k u m a r "
     ]
    }
   ],
   "source": [
    "s3 =input()\n",
    "for i in range(len(s3)):\n",
    "    print(s3[i], end= \" \")"
   ]
  },
  {
   "cell_type": "code",
   "execution_count": 8,
   "metadata": {},
   "outputs": [
    {
     "name": "stdout",
     "output_type": "stream",
     "text": [
      "saikumar\n",
      "['s', 'a', 'i', 'k', 'u', 'm', 'a', 'r']\n"
     ]
    }
   ],
   "source": [
    "li = []\n",
    "s3 =input()\n",
    "for i in range(len(s3)):\n",
    "    li.append(s3[i])\n",
    "print(li)"
   ]
  },
  {
   "cell_type": "code",
   "execution_count": null,
   "metadata": {},
   "outputs": [],
   "source": [
    "li = []\n",
    "s3 =input()\n",
    "uCnt= 0\n",
    "lCnt = 0\n",
    "for i in range(len(s3)):\n",
    "    if s3[i].isupper():\n",
    "        uCnt += 1\n",
    "    elif s3[i].islower():\n",
    "        lCnt += 1\n",
    "print(\"Upper Case : {} Lower Case : {}\".format(uCnt, lCnt))"
   ]
  },
  {
   "cell_type": "code",
   "execution_count": 12,
   "metadata": {},
   "outputs": [
    {
     "name": "stdout",
     "output_type": "stream",
     "text": [
      "Saikumar\n",
      "Upper Case : 1 Lower Case : 7\n"
     ]
    }
   ],
   "source": [
    "li = []\n",
    "s3 =input()\n",
    "uCnt= 0\n",
    "lCnt = 0\n",
    "for i in range(len(s3)):\n",
    "    if s3[i].isupper():\n",
    "        uCnt += 1\n",
    "    elif s3[i].islower():\n",
    "        lCnt += 1\n",
    "print(\"Upper Case : {} Lower Case : {}\".format(uCnt, lCnt))"
   ]
  },
  {
   "cell_type": "code",
   "execution_count": 16,
   "metadata": {},
   "outputs": [
    {
     "data": {
      "text/plain": [
       "False"
      ]
     },
     "execution_count": 16,
     "metadata": {},
     "output_type": "execute_result"
    }
   ],
   "source": [
    "\"SAi\".islower()"
   ]
  },
  {
   "cell_type": "code",
   "execution_count": 17,
   "metadata": {},
   "outputs": [
    {
     "data": {
      "text/plain": [
       "False"
      ]
     },
     "execution_count": 17,
     "metadata": {},
     "output_type": "execute_result"
    }
   ],
   "source": [
    "\"SAI\".islower()"
   ]
  },
  {
   "cell_type": "code",
   "execution_count": 18,
   "metadata": {},
   "outputs": [
    {
     "data": {
      "text/plain": [
       "True"
      ]
     },
     "execution_count": 18,
     "metadata": {},
     "output_type": "execute_result"
    }
   ],
   "source": [
    "\"sai\".islower()"
   ]
  },
  {
   "cell_type": "code",
   "execution_count": 19,
   "metadata": {},
   "outputs": [
    {
     "data": {
      "text/plain": [
       "True"
      ]
     },
     "execution_count": 19,
     "metadata": {},
     "output_type": "execute_result"
    }
   ],
   "source": [
    "\"SAI\".isupper()"
   ]
  },
  {
   "cell_type": "code",
   "execution_count": 22,
   "metadata": {},
   "outputs": [
    {
     "name": "stdout",
     "output_type": "stream",
     "text": [
      "SaiKumar\n",
      "Upper Case : 2 Lower Case : 6\n"
     ]
    }
   ],
   "source": [
    "li = []\n",
    "s3 =input()\n",
    "uCnt= 0\n",
    "lCnt = 0\n",
    "for i in range(len(s3)):\n",
    "    if ord(s3[i]) >= 64 and ord(s3[i]) <=90:\n",
    "        uCnt += 1\n",
    "    elif ord(s3[i]) >= 97 and ord(s3[i]) <=122:\n",
    "        lCnt += 1\n",
    "print(\"Upper Case : {} Lower Case : {}\".format(uCnt, lCnt))"
   ]
  },
  {
   "cell_type": "code",
   "execution_count": 27,
   "metadata": {},
   "outputs": [
    {
     "name": "stdout",
     "output_type": "stream",
     "text": [
      "16\n"
     ]
    }
   ],
   "source": [
    "# Applica8ti8on9\n",
    "# 16\n",
    "final_sum = 0\n",
    "s4 = \"Applica8ti8on9\"\n",
    "for i in range(len(s4)):\n",
    "    if s4[i].isdigit():\n",
    "        k = ord(s4[i]) -48 \n",
    "        if k % 2 ==0:\n",
    "            final_sum += k\n",
    "print(\"{}\".format(final_sum))"
   ]
  },
  {
   "cell_type": "code",
   "execution_count": 33,
   "metadata": {},
   "outputs": [
    {
     "name": "stdout",
     "output_type": "stream",
     "text": [
      "238\n"
     ]
    }
   ],
   "source": [
    "s6 =\"238\"\n",
    "x = int(s6)\n",
    "print(x)"
   ]
  },
  {
   "cell_type": "code",
   "execution_count": 34,
   "metadata": {},
   "outputs": [],
   "source": [
    "# Mobile123Need21Works45land87user342\n",
    "# 153 465\n",
    "s5 = \"Mobile123Need21Works45land87user342\"\n",
    "# for i in range(len(s5)):\n",
    "#     if s5[i]"
   ]
  },
  {
   "cell_type": "code",
   "execution_count": 46,
   "metadata": {},
   "outputs": [
    {
     "data": {
      "text/plain": [
       "'123456'"
      ]
     },
     "execution_count": 46,
     "metadata": {},
     "output_type": "execute_result"
    }
   ],
   "source": [
    "s7 = \"123\"\n",
    "s8 = \"456\"\n",
    "s7+s8"
   ]
  },
  {
   "cell_type": "code",
   "execution_count": 51,
   "metadata": {},
   "outputs": [
    {
     "data": {
      "text/plain": [
       "['Mobile123Need21Works45land87user342']"
      ]
     },
     "execution_count": 51,
     "metadata": {},
     "output_type": "execute_result"
    }
   ],
   "source": [
    "s5.split()"
   ]
  },
  {
   "cell_type": "code",
   "execution_count": 52,
   "metadata": {},
   "outputs": [
    {
     "data": {
      "text/plain": [
       "False"
      ]
     },
     "execution_count": 52,
     "metadata": {},
     "output_type": "execute_result"
    }
   ],
   "source": [
    "s5.isdigit()"
   ]
  },
  {
   "cell_type": "code",
   "execution_count": 53,
   "metadata": {
    "scrolled": true
   },
   "outputs": [
    {
     "data": {
      "text/plain": [
       "'M'"
      ]
     },
     "execution_count": 53,
     "metadata": {},
     "output_type": "execute_result"
    }
   ],
   "source": [
    "s5[0]"
   ]
  },
  {
   "cell_type": "code",
   "execution_count": 65,
   "metadata": {},
   "outputs": [
    {
     "data": {
      "text/plain": [
       "'2'"
      ]
     },
     "execution_count": 65,
     "metadata": {},
     "output_type": "execute_result"
    }
   ],
   "source": [
    "s5[6].join(s5[7])"
   ]
  },
  {
   "cell_type": "code",
   "execution_count": 67,
   "metadata": {},
   "outputs": [],
   "source": [
    "import string"
   ]
  },
  {
   "cell_type": "code",
   "execution_count": 77,
   "metadata": {},
   "outputs": [
    {
     "name": "stdout",
     "output_type": "stream",
     "text": [
      "Mobile123Need21Works45land87user342j\n",
      "0 0\n"
     ]
    }
   ],
   "source": [
    "# def check(n):\n",
    "#     cnt = 0\n",
    "#     while n != 0:\n",
    "#         cnt += 1\n",
    "#         n = n//10\n",
    "#         return cnt\n",
    "s1 = input()\n",
    "final_sum = 0\n",
    "final_x = 0\n",
    "for i in range(len(s1)):\n",
    "    num = 0\n",
    "    while True:\n",
    "        if s1[i].isdigit():\n",
    "            k = ord(s1[i])-48 \n",
    "            num = (num*10) +k\n",
    "            i +=1\n",
    "        else:\n",
    "            break\n",
    "    if check(num) ==2:\n",
    "        final_sum += num\n",
    "    elif check(num) ==3:\n",
    "        final_x += num\n",
    "print(\"{0} {1}\".format(final_sum,final_x))"
   ]
  },
  {
   "cell_type": "markdown",
   "metadata": {},
   "source": [
    "##### Not spl chars and digits\n",
    "Input :- (1A1B1C1D 2A1B1C1D1E)\n",
    "##### Abcd Aabc aabc\n",
    "##### ABCD AABCDE AABC\n",
    "Output :-\n",
    "- !@@!!!@@@@\n",
    "- !@!!@@@!!!!@@@@@\n",
    "- !@!!@@@"
   ]
  },
  {
   "cell_type": "code",
   "execution_count": 6,
   "metadata": {},
   "outputs": [
    {
     "name": "stdout",
     "output_type": "stream",
     "text": [
      "aabb\n",
      "!@!!@@"
     ]
    }
   ],
   "source": [
    "s =input()\n",
    "s = s.upper()\n",
    "ch = \"!\"\n",
    "for i in range(len(s)):\n",
    "    if s[i] != 32:\n",
    "        k = ord(s[i]) -64\n",
    "        for j in range(k):\n",
    "            print(ch, end =\"\")\n",
    "        if ch == \"!\":\n",
    "            ch = \"@\"\n",
    "        else:\n",
    "            ch = \"!\"\n",
    "    else:\n",
    "        print()"
   ]
  },
  {
   "cell_type": "code",
   "execution_count": 10,
   "metadata": {},
   "outputs": [
    {
     "name": "stdout",
     "output_type": "stream",
     "text": [
      "abc aabcde abc\n",
      "!@@!!!\n",
      "!@!!@@@!!!!@@@@@\n",
      "!@@!!!"
     ]
    }
   ],
   "source": [
    "s =input()\n",
    "s = s.upper()\n",
    "ch = \"!\"\n",
    "for i in range(len(s)):\n",
    "    if ord(s[i]) != 32:\n",
    "        k = ord(s[i]) -64\n",
    "        for j in range(k):\n",
    "            print(ch, end =\"\")\n",
    "        if ch == \"!\":\n",
    "            ch = \"@\"\n",
    "        else:\n",
    "            ch = \"!\"\n",
    "    else:\n",
    "        print()\n",
    "        ch = \"!\""
   ]
  },
  {
   "cell_type": "code",
   "execution_count": 14,
   "metadata": {},
   "outputs": [],
   "source": [
    "if ch == \"!\":\n",
    "    ch = \"@\"\n",
    "else:\n",
    "    ch = \"!\""
   ]
  },
  {
   "cell_type": "code",
   "execution_count": 16,
   "metadata": {},
   "outputs": [
    {
     "name": "stdout",
     "output_type": "stream",
     "text": [
      "abc aabbcc\n",
      "!@@!!!\n",
      "!@!!@@!!!@@@"
     ]
    }
   ],
   "source": [
    "s =input()\n",
    "s = s.upper()\n",
    "ch = \"!\"\n",
    "for i in range(len(s)):\n",
    "    if ord(s[i]) != 32:\n",
    "        k = ord(s[i]) -64\n",
    "        print(ch*k, end =\"\")\n",
    "        if ch == \"!\":\n",
    "            ch = \"@\"\n",
    "        else:\n",
    "            ch = \"!\"\n",
    "    else:\n",
    "        print()\n",
    "        ch = \"!\""
   ]
  },
  {
   "cell_type": "code",
   "execution_count": 36,
   "metadata": {},
   "outputs": [
    {
     "name": "stdout",
     "output_type": "stream",
     "text": [
      "A BB CCC DDDD\n"
     ]
    }
   ],
   "source": [
    "s = \"1A2B3C4D\"\n",
    "\n",
    "print(s[1]*1,s[3]*2,s[5]*3,s[7]*4)"
   ]
  },
  {
   "cell_type": "code",
   "execution_count": 18,
   "metadata": {},
   "outputs": [],
   "source": [
    "#Input: 1A2B3C4D\n",
    "#Output: ABBCCCDDDD"
   ]
  },
  {
   "cell_type": "code",
   "execution_count": 39,
   "metadata": {},
   "outputs": [
    {
     "ename": "TypeError",
     "evalue": "can't multiply sequence by non-int of type 'str'",
     "output_type": "error",
     "traceback": [
      "\u001b[1;31m---------------------------------------------------------------------------\u001b[0m",
      "\u001b[1;31mTypeError\u001b[0m                                 Traceback (most recent call last)",
      "\u001b[1;32m<ipython-input-39-dfcfae95800e>\u001b[0m in \u001b[0;36m<module>\u001b[1;34m\u001b[0m\n\u001b[0;32m      1\u001b[0m \u001b[0ms\u001b[0m \u001b[1;33m=\u001b[0m \u001b[1;34m\"1A2B3C4D\"\u001b[0m\u001b[1;33m\u001b[0m\u001b[1;33m\u001b[0m\u001b[0m\n\u001b[0;32m      2\u001b[0m \u001b[1;33m\u001b[0m\u001b[0m\n\u001b[1;32m----> 3\u001b[1;33m \u001b[0mprint\u001b[0m\u001b[1;33m(\u001b[0m\u001b[0ms\u001b[0m\u001b[1;33m[\u001b[0m\u001b[1;36m1\u001b[0m\u001b[1;33m]\u001b[0m\u001b[1;33m*\u001b[0m\u001b[1;33m(\u001b[0m\u001b[0ms\u001b[0m\u001b[1;33m[\u001b[0m\u001b[1;36m0\u001b[0m\u001b[1;33m]\u001b[0m\u001b[1;33m)\u001b[0m\u001b[1;33m,\u001b[0m\u001b[0ms\u001b[0m\u001b[1;33m[\u001b[0m\u001b[1;36m3\u001b[0m\u001b[1;33m]\u001b[0m\u001b[1;33m*\u001b[0m\u001b[1;33m(\u001b[0m\u001b[0ms\u001b[0m\u001b[1;33m[\u001b[0m\u001b[1;36m2\u001b[0m\u001b[1;33m]\u001b[0m\u001b[1;33m)\u001b[0m\u001b[1;33m,\u001b[0m\u001b[0ms\u001b[0m\u001b[1;33m[\u001b[0m\u001b[1;36m5\u001b[0m\u001b[1;33m]\u001b[0m\u001b[1;33m*\u001b[0m\u001b[1;33m(\u001b[0m\u001b[0ms\u001b[0m\u001b[1;33m[\u001b[0m\u001b[1;36m3\u001b[0m\u001b[1;33m]\u001b[0m\u001b[1;33m)\u001b[0m\u001b[1;33m,\u001b[0m\u001b[0ms\u001b[0m\u001b[1;33m[\u001b[0m\u001b[1;36m7\u001b[0m\u001b[1;33m]\u001b[0m\u001b[1;33m*\u001b[0m\u001b[1;33m(\u001b[0m\u001b[0ms\u001b[0m\u001b[1;33m[\u001b[0m\u001b[1;36m4\u001b[0m\u001b[1;33m]\u001b[0m\u001b[1;33m)\u001b[0m\u001b[1;33m)\u001b[0m\u001b[1;33m\u001b[0m\u001b[1;33m\u001b[0m\u001b[0m\n\u001b[0m",
      "\u001b[1;31mTypeError\u001b[0m: can't multiply sequence by non-int of type 'str'"
     ]
    }
   ],
   "source": [
    "s = \"1A2B3C4D\"\n",
    "\n",
    "print(s[1]*(s[0]),s[3]*(s[2]),s[5]*(s[3]),s[7]*(s[4]))"
   ]
  },
  {
   "cell_type": "code",
   "execution_count": 40,
   "metadata": {},
   "outputs": [
    {
     "name": "stdout",
     "output_type": "stream",
     "text": [
      "ABBCCCDDDD"
     ]
    }
   ],
   "source": [
    "for i in range(0,len(s),2):\n",
    "    print(s[i+1]*int(s[i]),end =\"\")"
   ]
  },
  {
   "cell_type": "code",
   "execution_count": 41,
   "metadata": {},
   "outputs": [
    {
     "name": "stdout",
     "output_type": "stream",
     "text": [
      "1\n",
      "A\n",
      "2\n",
      "B\n",
      "3\n",
      "C\n",
      "4\n",
      "D\n"
     ]
    }
   ],
   "source": [
    "for i in range(len(s)):\n",
    "    print(s[i])"
   ]
  },
  {
   "cell_type": "code",
   "execution_count": 47,
   "metadata": {},
   "outputs": [
    {
     "name": "stdout",
     "output_type": "stream",
     "text": [
      "ABBCCCDDDD"
     ]
    }
   ],
   "source": [
    "for i in range(0,len(s),2):\n",
    "    print(s[i+1]*int(s[i]),end = \"\")"
   ]
  }
 ],
 "metadata": {
  "kernelspec": {
   "display_name": "Python 3",
   "language": "python",
   "name": "python3"
  },
  "language_info": {
   "codemirror_mode": {
    "name": "ipython",
    "version": 3
   },
   "file_extension": ".py",
   "mimetype": "text/x-python",
   "name": "python",
   "nbconvert_exporter": "python",
   "pygments_lexer": "ipython3",
   "version": "3.7.4"
  }
 },
 "nbformat": 4,
 "nbformat_minor": 2
}
