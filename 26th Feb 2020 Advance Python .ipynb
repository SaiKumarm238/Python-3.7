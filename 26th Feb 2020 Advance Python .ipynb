{
 "cells": [
  {
   "cell_type": "markdown",
   "metadata": {},
   "source": [
    "## Functional progreming"
   ]
  },
  {
   "cell_type": "code",
   "execution_count": 1,
   "metadata": {},
   "outputs": [],
   "source": [
    "# Reaturn the functional statements\n",
    "def funName(<Parameters>):\n",
    "    return"
   ]
  },
  {
   "cell_type": "code",
   "execution_count": 2,
   "metadata": {},
   "outputs": [
    {
     "name": "stdout",
     "output_type": "stream",
     "text": [
      "test() function...\n"
     ]
    }
   ],
   "source": [
    "def test():\n",
    "    print(\"test() function...\")\n",
    "    return \n",
    "test()"
   ]
  },
  {
   "cell_type": "code",
   "execution_count": 3,
   "metadata": {},
   "outputs": [
    {
     "data": {
      "text/plain": [
       "'Dhyanahita'"
      ]
     },
     "execution_count": 3,
     "metadata": {},
     "output_type": "execute_result"
    }
   ],
   "source": [
    "def isTest():\n",
    "    return \"Dhyanahita\"\n",
    "isTest()"
   ]
  },
  {
   "cell_type": "code",
   "execution_count": 4,
   "metadata": {},
   "outputs": [
    {
     "data": {
      "text/plain": [
       "123"
      ]
     },
     "execution_count": 4,
     "metadata": {},
     "output_type": "execute_result"
    }
   ],
   "source": [
    "def isTestWord(x):\n",
    "    return x\n",
    "a = 123\n",
    "isTestWord(a)"
   ]
  },
  {
   "cell_type": "code",
   "execution_count": 5,
   "metadata": {},
   "outputs": [
    {
     "data": {
      "text/plain": [
       "[1, 2, 3]"
      ]
     },
     "execution_count": 5,
     "metadata": {},
     "output_type": "execute_result"
    }
   ],
   "source": [
    "def isTestWord(x):\n",
    "    return x\n",
    "a = [1,2,3]\n",
    "isTestWord(a)"
   ]
  },
  {
   "cell_type": "code",
   "execution_count": 6,
   "metadata": {},
   "outputs": [
    {
     "name": "stdout",
     "output_type": "stream",
     "text": [
      "[1, 2, 3] <class 'list'>\n"
     ]
    }
   ],
   "source": [
    "def isTestWord(x):\n",
    "    return x\n",
    "a = [1,2,3]\n",
    "print(isTestWord(a), type(a))"
   ]
  },
  {
   "cell_type": "code",
   "execution_count": 7,
   "metadata": {},
   "outputs": [
    {
     "data": {
      "text/plain": [
       "list"
      ]
     },
     "execution_count": 7,
     "metadata": {},
     "output_type": "execute_result"
    }
   ],
   "source": [
    "def inputType(a):\n",
    "    return type(a)\n",
    "a= [1,2,3,5]\n",
    "inputType(a)"
   ]
  },
  {
   "cell_type": "code",
   "execution_count": 8,
   "metadata": {},
   "outputs": [
    {
     "data": {
      "text/plain": [
       "tuple"
      ]
     },
     "execution_count": 8,
     "metadata": {},
     "output_type": "execute_result"
    }
   ],
   "source": [
    "def inputType(a):\n",
    "    return type(a)\n",
    "a= (1,2,3,5)\n",
    "inputType(a)"
   ]
  },
  {
   "cell_type": "code",
   "execution_count": 9,
   "metadata": {},
   "outputs": [
    {
     "data": {
      "text/plain": [
       "str"
      ]
     },
     "execution_count": 9,
     "metadata": {},
     "output_type": "execute_result"
    }
   ],
   "source": [
    "def inputType(a):\n",
    "    return type(a)\n",
    "a= \"1,2,3,5\"\n",
    "inputType(a)"
   ]
  },
  {
   "cell_type": "markdown",
   "metadata": {},
   "source": [
    "## Coding Standards\n",
    "- Variable Name : num , num_test , numTrst\n",
    "- Function Name : fun1() , fun_test ,funTest()\n",
    "- Countruction Name: __init__\n",
    "- Class Name : Demo(), DemoAbc()\n",
    "- import : import packagename\n",
    "- import : from packagename import function1,g=function2....."
   ]
  },
  {
   "cell_type": "markdown",
   "metadata": {},
   "source": [
    "## External packages \n",
    "\n",
    "  import statements as\n",
    "- math \n",
    "- panadas\n",
    "- numpy\n",
    "- re\n",
    "- matplot...."
   ]
  },
  {
   "cell_type": "markdown",
   "metadata": {},
   "source": [
    "# re (Regular Expression)\n",
    "\n",
    "--> Regular Expression creation\n",
    "    - checking the loer case\n",
    "    - checking the uppercase\n",
    "    - checking the special charactors"
   ]
  },
  {
   "cell_type": "code",
   "execution_count": 10,
   "metadata": {},
   "outputs": [],
   "source": [
    "import re"
   ]
  },
  {
   "cell_type": "code",
   "execution_count": 18,
   "metadata": {},
   "outputs": [
    {
     "data": {
      "text/plain": [
       "True"
      ]
     },
     "execution_count": 18,
     "metadata": {},
     "output_type": "execute_result"
    }
   ],
   "source": [
    "def two_digit_match(n):\n",
    "    pattern = \"^[0-9]{2}$\"\n",
    "    n = str(n)\n",
    "    if re.match(pattern,n):\n",
    "        return True\n",
    "    return False\n",
    "two_digit_match(12)"
   ]
  },
  {
   "cell_type": "code",
   "execution_count": 23,
   "metadata": {},
   "outputs": [
    {
     "name": "stdout",
     "output_type": "stream",
     "text": [
      "False\n",
      "True\n"
     ]
    }
   ],
   "source": [
    "def userName(userid):\n",
    "    pattern = \"^[A-Z][a-z A-Z]{5,11}$\"\n",
    "    if re.match(pattern,userid):\n",
    "        return True\n",
    "    return False\n",
    "print(userName(\"saikumar\"))\n",
    "print(userName(\"Saikumar\"))"
   ]
  },
  {
   "cell_type": "code",
   "execution_count": 24,
   "metadata": {},
   "outputs": [],
   "source": [
    "# Validate -DHS00120\n",
    "# DHS00120 - DHS00999"
   ]
  },
  {
   "cell_type": "code",
   "execution_count": 29,
   "metadata": {},
   "outputs": [
    {
     "data": {
      "text/plain": [
       "True"
      ]
     },
     "execution_count": 29,
     "metadata": {},
     "output_type": "execute_result"
    }
   ],
   "source": [
    "def validate_Something(x):\n",
    "    pattern = \"^[D][H][S][0][0][1-9][2-9][0-9]$\"\n",
    "    if re.match(pattern,x):\n",
    "        return True\n",
    "    return False\n",
    "validate_Something(\"DHS00120\")"
   ]
  },
  {
   "cell_type": "code",
   "execution_count": 30,
   "metadata": {},
   "outputs": [
    {
     "data": {
      "text/plain": [
       "True"
      ]
     },
     "execution_count": 30,
     "metadata": {},
     "output_type": "execute_result"
    }
   ],
   "source": [
    "validate_Something(\"DHS00999\")"
   ]
  },
  {
   "cell_type": "code",
   "execution_count": 48,
   "metadata": {},
   "outputs": [],
   "source": [
    "def indian_Mobile_Number(n):\n",
    "    pattern = \"^[[+][9][1][-]][0-9]{0,13}$\"\n",
    "    n = str(n)\n",
    "    if re.match(pattern,n):\n",
    "        return True\n",
    "    return False"
   ]
  },
  {
   "cell_type": "code",
   "execution_count": 49,
   "metadata": {},
   "outputs": [
    {
     "name": "stderr",
     "output_type": "stream",
     "text": [
      "C:\\Users\\saiku\\Anaconda3\\lib\\site-packages\\ipykernel_launcher.py:4: FutureWarning: Possible nested set at position 2\n",
      "  after removing the cwd from sys.path.\n"
     ]
    },
    {
     "data": {
      "text/plain": [
       "False"
      ]
     },
     "execution_count": 49,
     "metadata": {},
     "output_type": "execute_result"
    }
   ],
   "source": [
    "indian_Mobile_Number(+91-9876068670)"
   ]
  },
  {
   "cell_type": "code",
   "execution_count": 50,
   "metadata": {},
   "outputs": [],
   "source": [
    "def indian_Mobile_Number(n):\n",
    "    pattern = \"^[0-9]{0,10}$\"\n",
    "    n = str(n)\n",
    "    if re.match(pattern,n):\n",
    "        return True\n",
    "    return False"
   ]
  },
  {
   "cell_type": "code",
   "execution_count": 51,
   "metadata": {},
   "outputs": [
    {
     "data": {
      "text/plain": [
       "True"
      ]
     },
     "execution_count": 51,
     "metadata": {},
     "output_type": "execute_result"
    }
   ],
   "source": [
    "indian_Mobile_Number(8886068670)"
   ]
  },
  {
   "cell_type": "code",
   "execution_count": 54,
   "metadata": {},
   "outputs": [
    {
     "data": {
      "text/plain": [
       "True"
      ]
     },
     "execution_count": 54,
     "metadata": {},
     "output_type": "execute_result"
    }
   ],
   "source": [
    "def indian_Mobile_Number(n):\n",
    "    pattern = \"[0][0-9]{0,11}$\"\n",
    "    n = str(n)\n",
    "    if re.match(pattern,n):\n",
    "        return True\n",
    "    return False\n",
    "indian_Mobile_Number(\"08886068670\")"
   ]
  },
  {
   "cell_type": "code",
   "execution_count": 65,
   "metadata": {},
   "outputs": [
    {
     "data": {
      "text/plain": [
       "True"
      ]
     },
     "execution_count": 65,
     "metadata": {},
     "output_type": "execute_result"
    }
   ],
   "source": [
    "def indian_Mobile_Number(n):\n",
    "    pattern = \"^[[+91]|[0]|[9]|[8]|[7]|[6]][0-9]{10,13}$\"\n",
    "    n = str(n)\n",
    "    if re.match(pattern,n):\n",
    "        return True\n",
    "    return False\n",
    "indian_Mobile_Number(8886068670)"
   ]
  },
  {
   "cell_type": "code",
   "execution_count": 57,
   "metadata": {},
   "outputs": [],
   "source": [
    "# User name Validate\n",
    "# Should need to contains One Upper \n",
    "# case ,  Lower case m,  Digit"
   ]
  },
  {
   "cell_type": "code",
   "execution_count": 75,
   "metadata": {},
   "outputs": [
    {
     "data": {
      "text/plain": [
       "False"
      ]
     },
     "execution_count": 75,
     "metadata": {},
     "output_type": "execute_result"
    }
   ],
   "source": [
    "def name_Validate(name):\n",
    "    pattern = \"^[A-Z]&[a-z]{6}&[0-9]{1}$\"\n",
    "    if re.match(pattern,name):\n",
    "        return True\n",
    "    return False\n",
    "name_Validate(\"Saikum5\")"
   ]
  },
  {
   "cell_type": "code",
   "execution_count": 85,
   "metadata": {},
   "outputs": [
    {
     "data": {
      "text/plain": [
       "True"
      ]
     },
     "execution_count": 85,
     "metadata": {},
     "output_type": "execute_result"
    }
   ],
   "source": [
    "def name_Validate(name):\n",
    "    pattern =  \"^(?=.*[a-z])(?=.*[A-Z])(?=.*\\d)[a-zA-Z\\d]{6,}$\"\n",
    "    if re.match(pattern,name):\n",
    "        return True\n",
    "    return False\n",
    "name_Validate(\"sAi5kum\")"
   ]
  },
  {
   "cell_type": "code",
   "execution_count": null,
   "metadata": {},
   "outputs": [],
   "source": []
  }
 ],
 "metadata": {
  "kernelspec": {
   "display_name": "Python 3",
   "language": "python",
   "name": "python3"
  },
  "language_info": {
   "codemirror_mode": {
    "name": "ipython",
    "version": 3
   },
   "file_extension": ".py",
   "mimetype": "text/x-python",
   "name": "python",
   "nbconvert_exporter": "python",
   "pygments_lexer": "ipython3",
   "version": "3.7.4"
  }
 },
 "nbformat": 4,
 "nbformat_minor": 2
}
