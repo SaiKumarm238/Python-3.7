{
 "cells": [
  {
   "cell_type": "markdown",
   "metadata": {},
   "source": [
    "## File Management "
   ]
  },
  {
   "cell_type": "code",
   "execution_count": 1,
   "metadata": {},
   "outputs": [
    {
     "data": {
      "text/plain": [
       "'C:\\\\Users\\\\saiku\\\\PROMIZE IT PYTHON CLASS\\\\27th Feb 2020'"
      ]
     },
     "execution_count": 1,
     "metadata": {},
     "output_type": "execute_result"
    }
   ],
   "source": [
    "pwd"
   ]
  },
  {
   "cell_type": "code",
   "execution_count": 2,
   "metadata": {},
   "outputs": [
    {
     "data": {
      "text/plain": [
       "'File Dataid is Completed Successfully'"
      ]
     },
     "execution_count": 2,
     "metadata": {},
     "output_type": "execute_result"
    }
   ],
   "source": [
    "def CreatingFile(filename):\n",
    "    f = open(filename, \"w\")\n",
    "    for i in range(10):\n",
    "        f.write(\"\\n Line of Data\")\n",
    "    return \"File Dataid is Completed Successfully\"\n",
    "CreatingFile(\"file.txt\")"
   ]
  },
  {
   "cell_type": "code",
   "execution_count": 3,
   "metadata": {},
   "outputs": [],
   "source": [
    "r =open(\"placements.txt\", \"r\")"
   ]
  },
  {
   "cell_type": "code",
   "execution_count": 4,
   "metadata": {},
   "outputs": [
    {
     "data": {
      "text/plain": [
       "<_io.TextIOWrapper name='placements.txt' mode='r' encoding='cp1252'>"
      ]
     },
     "execution_count": 4,
     "metadata": {},
     "output_type": "execute_result"
    }
   ],
   "source": [
    "r"
   ]
  },
  {
   "cell_type": "code",
   "execution_count": 6,
   "metadata": {},
   "outputs": [],
   "source": [
    "def ReadFile(filename):\n",
    "    f =open(filename,\"r\")\n",
    "    if f.mode== \"r\":\n",
    "        x = f.read()\n",
    "        li = list(x)\n",
    "    return x\n",
    "li1 =ReadFile(\"placements.txt\")"
   ]
  },
  {
   "cell_type": "code",
   "execution_count": 8,
   "metadata": {},
   "outputs": [],
   "source": [
    "import datetime\n",
    "li1 = eval(li1)"
   ]
  },
  {
   "cell_type": "code",
   "execution_count": 18,
   "metadata": {},
   "outputs": [
    {
     "data": {
      "text/plain": [
       "list"
      ]
     },
     "execution_count": 18,
     "metadata": {},
     "output_type": "execute_result"
    }
   ],
   "source": [
    "type(li1)"
   ]
  },
  {
   "cell_type": "code",
   "execution_count": 20,
   "metadata": {},
   "outputs": [
    {
     "data": {
      "text/plain": [
       "[{'student_id': 4420,\n",
       "  'placement_id': 1,\n",
       "  'placement__company_name': 'promizeit',\n",
       "  'placement__date_of_interview': datetime.date(2020, 2, 11),\n",
       "  'placement__job_description': 'test',\n",
       "  'placement__eligibility_criteria': 'test'},\n",
       " {'student_id': 4420,\n",
       "  'placement_id': 2,\n",
       "  'placement__company_name': 'Test 2',\n",
       "  'placement__date_of_interview': datetime.date(2020, 2, 27),\n",
       "  'placement__job_description': 'Test2',\n",
       "  'placement__eligibility_criteria': 'Test2'}]"
      ]
     },
     "execution_count": 20,
     "metadata": {},
     "output_type": "execute_result"
    }
   ],
   "source": [
    "li1"
   ]
  },
  {
   "cell_type": "code",
   "execution_count": 1,
   "metadata": {},
   "outputs": [
    {
     "data": {
      "text/plain": [
       "\"[{'student_id': 4420, 'placement_id': 1, 'placement__company_name': 'promizeit', 'placement__date_of_interview': datetime.date(2020, 2, 11), 'placement__job_description': 'test', 'placement__eligibility_criteria': 'test'},\\n{'student_id': 4420, 'placement_id': 2, 'placement__company_name': 'Test 2', 'placement__date_of_interview': datetime.date(2020, 2, 27), 'placement__job_description': 'Test2', 'placement__eligibility_criteria': 'Test2'}]\""
      ]
     },
     "execution_count": 1,
     "metadata": {},
     "output_type": "execute_result"
    }
   ],
   "source": [
    "def ReadFile(filename):\n",
    "    f =open(filename,\"r\")\n",
    "    if f.mode== \"r\":\n",
    "        x = f.read()\n",
    "        li = list(x)\n",
    "    return x\n",
    "st = ReadFile(\"placements.txt\")\n",
    "st"
   ]
  },
  {
   "cell_type": "code",
   "execution_count": 2,
   "metadata": {},
   "outputs": [
    {
     "data": {
      "text/plain": [
       "[{'student_id': 4420,\n",
       "  'placement_id': 1,\n",
       "  'placement__company_name': 'promizeit',\n",
       "  'placement__date_of_interview': datetime.date(2020, 2, 11),\n",
       "  'placement__job_description': 'test',\n",
       "  'placement__eligibility_criteria': 'test'},\n",
       " {'student_id': 4420,\n",
       "  'placement_id': 2,\n",
       "  'placement__company_name': 'Test 2',\n",
       "  'placement__date_of_interview': datetime.date(2020, 2, 27),\n",
       "  'placement__job_description': 'Test2',\n",
       "  'placement__eligibility_criteria': 'Test2'}]"
      ]
     },
     "execution_count": 2,
     "metadata": {},
     "output_type": "execute_result"
    }
   ],
   "source": [
    "import datetime\n",
    "lst = eval(st)\n",
    "lst"
   ]
  },
  {
   "cell_type": "code",
   "execution_count": 3,
   "metadata": {},
   "outputs": [
    {
     "name": "stdout",
     "output_type": "stream",
     "text": [
      "{'student_id': 4420, 'placement_id': 1, 'placement__company_name': 'promizeit', 'placement__date_of_interview': datetime.date(2020, 2, 11), 'placement__job_description': 'test', 'placement__eligibility_criteria': 'test'}\n",
      "{'student_id': 4420, 'placement_id': 2, 'placement__company_name': 'Test 2', 'placement__date_of_interview': datetime.date(2020, 2, 27), 'placement__job_description': 'Test2', 'placement__eligibility_criteria': 'Test2'}\n"
     ]
    }
   ],
   "source": [
    "for i in lst:\n",
    "    print(i)"
   ]
  },
  {
   "cell_type": "code",
   "execution_count": 4,
   "metadata": {},
   "outputs": [],
   "source": [
    "def ReadFile(filename):\n",
    "    f =open(filename,\"r\")\n",
    "    if f.mode== \"r\":\n",
    "        x = f.read()\n",
    "        li = list(x)\n",
    "    return x\n",
    "st1 = ReadFile(\"placement_students.txt\")"
   ]
  },
  {
   "cell_type": "code",
   "execution_count": 5,
   "metadata": {},
   "outputs": [],
   "source": [
    "lst2 = eval(st1)"
   ]
  },
  {
   "cell_type": "code",
   "execution_count": 6,
   "metadata": {},
   "outputs": [
    {
     "data": {
      "text/plain": [
       "[{'student_id': 4420,\n",
       "  'round__round_name': 'Written Test',\n",
       "  'status': 'N',\n",
       "  'placement_id': 1},\n",
       " {'student_id': 4420,\n",
       "  'round__round_name': 'Written Test',\n",
       "  'status': 'Y',\n",
       "  'placement_id': 2},\n",
       " {'student_id': 4420,\n",
       "  'round__round_name': 'GD',\n",
       "  'status': 'N',\n",
       "  'placement_id': 1},\n",
       " {'student_id': 4420,\n",
       "  'round__round_name': 'GD',\n",
       "  'status': 'Y',\n",
       "  'placement_id': 2},\n",
       " {'student_id': 4420,\n",
       "  'round__round_name': 'Technical',\n",
       "  'status': 'N',\n",
       "  'placement_id': 1},\n",
       " {'student_id': 4420,\n",
       "  'round__round_name': 'Technical',\n",
       "  'status': 'Y',\n",
       "  'placement_id': 2},\n",
       " {'student_id': 4420,\n",
       "  'round__round_name': 'HR',\n",
       "  'status': 'Y',\n",
       "  'placement_id': 2}]"
      ]
     },
     "execution_count": 6,
     "metadata": {},
     "output_type": "execute_result"
    }
   ],
   "source": [
    "lst2"
   ]
  },
  {
   "cell_type": "code",
   "execution_count": 7,
   "metadata": {},
   "outputs": [
    {
     "name": "stdout",
     "output_type": "stream",
     "text": [
      "{'student_id': 4420, 'round__round_name': 'Written Test', 'status': 'N', 'placement_id': 1}\n",
      "{'student_id': 4420, 'round__round_name': 'Written Test', 'status': 'Y', 'placement_id': 2}\n",
      "{'student_id': 4420, 'round__round_name': 'GD', 'status': 'N', 'placement_id': 1}\n",
      "{'student_id': 4420, 'round__round_name': 'GD', 'status': 'Y', 'placement_id': 2}\n",
      "{'student_id': 4420, 'round__round_name': 'Technical', 'status': 'N', 'placement_id': 1}\n",
      "{'student_id': 4420, 'round__round_name': 'Technical', 'status': 'Y', 'placement_id': 2}\n",
      "{'student_id': 4420, 'round__round_name': 'HR', 'status': 'Y', 'placement_id': 2}\n"
     ]
    }
   ],
   "source": [
    "for k in lst2:\n",
    "    print (k)"
   ]
  },
  {
   "cell_type": "code",
   "execution_count": 8,
   "metadata": {},
   "outputs": [
    {
     "name": "stdout",
     "output_type": "stream",
     "text": [
      "{'student_id': 4420, 'placement_id': 2, 'placement__company_name': 'Test 2', 'placement__date_of_interview': datetime.date(2020, 2, 27), 'placement__job_description': 'Test2', 'placement__eligibility_criteria': 'Test2'}\n",
      "{'student_id': 4420, 'round__round_name': 'HR', 'status': 'Y', 'placement_id': 2, 'placement__company_name': 'Test 2', 'placement__date_of_interview': datetime.date(2020, 2, 27), 'placement__job_description': 'Test2', 'placement__eligibility_criteria': 'Test2'}\n"
     ]
    }
   ],
   "source": [
    "def Merge(i,k):\n",
    "    return (k.update(i))\n",
    "Merge(i,k)\n",
    "print(i)\n",
    "print(k)"
   ]
  },
  {
   "cell_type": "code",
   "execution_count": 10,
   "metadata": {},
   "outputs": [
    {
     "name": "stdout",
     "output_type": "stream",
     "text": [
      "[{'round_name': 'Written Test', 'status': 'N'}, {'round_name': 'GD', 'status': 'N'}, {'round_name': 'Technical', 'status': 'N'}]\n"
     ]
    }
   ],
   "source": [
    "f = []\n",
    "dic1 = {}\n",
    "dic1 = lst[0]\n",
    "for i in lst2:\n",
    "    dic = {}\n",
    "    if i[\"placement_id\"] == 1:\n",
    "        dic[\"round_name\"] = i[\"round__round_name\"]\n",
    "        dic[\"status\"] = i[\"status\"]\n",
    "        f.append(dic)\n",
    "print(f)"
   ]
  },
  {
   "cell_type": "code",
   "execution_count": 11,
   "metadata": {},
   "outputs": [],
   "source": [
    "dic1[\"results\"]=f"
   ]
  },
  {
   "cell_type": "code",
   "execution_count": 12,
   "metadata": {},
   "outputs": [
    {
     "data": {
      "text/plain": [
       "{'student_id': 4420,\n",
       " 'placement_id': 1,\n",
       " 'placement__company_name': 'promizeit',\n",
       " 'placement__date_of_interview': datetime.date(2020, 2, 11),\n",
       " 'placement__job_description': 'test',\n",
       " 'placement__eligibility_criteria': 'test',\n",
       " 'results': [{'round_name': 'Written Test', 'status': 'N'},\n",
       "  {'round_name': 'GD', 'status': 'N'},\n",
       "  {'round_name': 'Technical', 'status': 'N'}]}"
      ]
     },
     "execution_count": 12,
     "metadata": {},
     "output_type": "execute_result"
    }
   ],
   "source": [
    "dic1"
   ]
  },
  {
   "cell_type": "code",
   "execution_count": null,
   "metadata": {},
   "outputs": [],
   "source": []
  }
 ],
 "metadata": {
  "kernelspec": {
   "display_name": "Python 3",
   "language": "python",
   "name": "python3"
  },
  "language_info": {
   "codemirror_mode": {
    "name": "ipython",
    "version": 3
   },
   "file_extension": ".py",
   "mimetype": "text/x-python",
   "name": "python",
   "nbconvert_exporter": "python",
   "pygments_lexer": "ipython3",
   "version": "3.7.4"
  }
 },
 "nbformat": 4,
 "nbformat_minor": 2
}
